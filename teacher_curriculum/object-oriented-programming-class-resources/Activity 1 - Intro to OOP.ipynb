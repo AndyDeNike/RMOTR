{
 "cells": [
  {
   "cell_type": "markdown",
   "metadata": {},
   "source": [
    "# Module 1: Intro to OOP\n",
    "\n",
    "We'll discuss classes, objects, attributes and methods. Also how to initialize objects using the `__init__` method."
   ]
  },
  {
   "cell_type": "markdown",
   "metadata": {},
   "source": [
    "### Quick summary of notebooks commands:\n",
    "\n",
    "* `ctrl+return`: Run current cell\n",
    "* `shift+return`: Run current cell and move focus to next one\n",
    "* `a`: Create a new cell above\n",
    "* `b`: Create a new cell below\n",
    "* `dd`: Delete current cell\n",
    "* `z`: Undo previous delete"
   ]
  },
  {
   "cell_type": "markdown",
   "metadata": {},
   "source": [
    "### Basics: Classes, objects and attributes"
   ]
  },
  {
   "cell_type": "code",
   "execution_count": null,
   "metadata": {},
   "outputs": [],
   "source": [
    "class Circle(object):\n",
    "    pass\n",
    "\n",
    "class Square(object):\n",
    "    pass"
   ]
  },
  {
   "cell_type": "markdown",
   "metadata": {},
   "source": [
    "##### Step 1\n",
    "Create two instances of the class `Circle` (`c1` and `c2`). Assign an attribute `radius` to each one of them with values `1` and `0.5`."
   ]
  },
  {
   "cell_type": "code",
   "execution_count": null,
   "metadata": {},
   "outputs": [],
   "source": [
    "# Your code here"
   ]
  },
  {
   "cell_type": "markdown",
   "metadata": {},
   "source": [
    "##### Step 2\n",
    "Create two instances of the class `Square` (`s1` and `s2`). Assign an attribute `side` to each one of them with values `1` and `2`.\n",
    "\n",
    "_Hint: A circle's area is defined as `Pi * radius^2`_"
   ]
  },
  {
   "cell_type": "code",
   "execution_count": null,
   "metadata": {},
   "outputs": [],
   "source": [
    "# Your code here"
   ]
  },
  {
   "cell_type": "markdown",
   "metadata": {},
   "source": [
    "##### Step 3\n",
    "Compute the area of circles `c1` and `c2`"
   ]
  },
  {
   "cell_type": "code",
   "execution_count": null,
   "metadata": {},
   "outputs": [],
   "source": [
    "# Your code here"
   ]
  },
  {
   "cell_type": "markdown",
   "metadata": {},
   "source": [
    "##### Step 4\n",
    "Define a function `area_of_square` that receives a square and returns its area. Use the function `area_of_square` to compute the areas of both squares previously created."
   ]
  },
  {
   "cell_type": "code",
   "execution_count": null,
   "metadata": {},
   "outputs": [],
   "source": [
    "# Your code here"
   ]
  },
  {
   "cell_type": "markdown",
   "metadata": {},
   "source": [
    "##### Step 5\n",
    "Define now a more general `area()` function that receives an object and returns the correct area regardless of the object passed. If the object is invalid, it should raise a `ValueError` Exception."
   ]
  },
  {
   "cell_type": "code",
   "execution_count": null,
   "metadata": {},
   "outputs": [],
   "source": [
    "# Your code here"
   ]
  },
  {
   "cell_type": "markdown",
   "metadata": {},
   "source": [
    "### Methods"
   ]
  },
  {
   "cell_type": "markdown",
   "metadata": {},
   "source": [
    "##### Step 1\n",
    "\n",
    "Define the functions `area_circle` for both `Circle` and `area_square` for `Square`. Use it to compute areas of the created objects again."
   ]
  },
  {
   "cell_type": "code",
   "execution_count": null,
   "metadata": {},
   "outputs": [],
   "source": [
    "# Your code here"
   ]
  },
  {
   "cell_type": "markdown",
   "metadata": {},
   "source": [
    "##### Step 2\n",
    "Move the functions created inside the class definitions to make them methods. Rename them to be only `area` for each class.\n",
    "\n",
    "Use them to compute the areas of the created objects.\n",
    "\n",
    "_**IMPORTANT**: You'll need to re-define the classes and re-create the instances_."
   ]
  },
  {
   "cell_type": "code",
   "execution_count": null,
   "metadata": {},
   "outputs": [],
   "source": [
    "# Your code here"
   ]
  },
  {
   "cell_type": "markdown",
   "metadata": {},
   "source": [
    "##### Step 3\n",
    "`a_square`, `a_circle` aren't great names. Use Python's convention to refer to the object."
   ]
  },
  {
   "cell_type": "code",
   "execution_count": null,
   "metadata": {},
   "outputs": [],
   "source": [
    "# Your code here"
   ]
  },
  {
   "cell_type": "markdown",
   "metadata": {},
   "source": [
    "##### Step 4\n",
    "\n",
    "Create the following functions:\n",
    "\n",
    "**`initialize_circle`:** Takes the radius and initializes the circle. Example:\n",
    "```python\n",
    "c = Circle()\n",
    "initialize(c, radius=1.5)\n",
    "c.radius  # 1.5\n",
    "```\n",
    "\n",
    "**`initialize_square`:** Takes the side and initializes the square. Example:\n",
    "```python\n",
    "s = Square()\n",
    "initialize(s, side=3)\n",
    "s.side  # 3\n",
    "```\n",
    "\n",
    "Re-create the objects `c1`, `c2`, `s1` and `s2` and initialize them using the functions.\n",
    "\n",
    "```python\n",
    "c1 = Circle()\n",
    "c2 = Circle()\n",
    "s1 = Square()\n",
    "s2 = Square()\n",
    "# Initialize them...\n",
    "```"
   ]
  },
  {
   "cell_type": "code",
   "execution_count": null,
   "metadata": {},
   "outputs": [],
   "source": [
    "# Your code here"
   ]
  },
  {
   "cell_type": "code",
   "execution_count": null,
   "metadata": {
    "scrolled": true
   },
   "outputs": [],
   "source": [
    "print(\"Area of C1: {}\".format(c1.area()))\n",
    "print(\"Area of C2: {}\".format(c2.area()))\n",
    "print(\"Area of S1: {}\".format(s1.area()))\n",
    "print(\"Area of S2: {}\".format(s2.area()))"
   ]
  },
  {
   "cell_type": "markdown",
   "metadata": {},
   "source": [
    "##### Step 5\n",
    "Turn the `initialize_*` methods into the `__init__` method of each class.\n",
    "\n",
    "_(You'll need to redefine the classes and recreate the instances)_"
   ]
  },
  {
   "cell_type": "code",
   "execution_count": null,
   "metadata": {},
   "outputs": [],
   "source": [
    "print(\"Area of C1: {}\".format(c1.area()))\n",
    "print(\"Area of C2: {}\".format(c2.area()))\n",
    "print(\"Area of S1: {}\".format(s1.area()))\n",
    "print(\"Area of S2: {}\".format(s2.area()))"
   ]
  }
 ],
 "metadata": {
  "kernelspec": {
   "display_name": "Python 3",
   "language": "python",
   "name": "python3"
  },
  "language_info": {
   "codemirror_mode": {
    "name": "ipython",
    "version": 3
   },
   "file_extension": ".py",
   "mimetype": "text/x-python",
   "name": "python",
   "nbconvert_exporter": "python",
   "pygments_lexer": "ipython3",
   "version": "3.6.0"
  }
 },
 "nbformat": 4,
 "nbformat_minor": 2
}
